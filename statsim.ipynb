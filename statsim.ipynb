{
 "cells": [
  {
   "cell_type": "code",
   "execution_count": 1,
   "metadata": {},
   "outputs": [
    {
     "name": "stdout",
     "output_type": "stream",
     "text": [
      "experimental average score: 1.221\n",
      "range of scores: [0,7]\n"
     ]
    }
   ],
   "source": [
    "import random \n",
    "\"\"\"\n",
    "Background: imagine a square board with a circle(radius 1) in the center, you have an \n",
    "even probibility of making it anywhere on the square. If you miss the circle, game over, \n",
    "if you make the circles radius srinks to the distance between the dart and the edge. This \n",
    "process will countue until the game in over. \n",
    "\"\"\"\n",
    "def circleProb(radius):\n",
    "    x = random.random() # random x, range [0, 1]\n",
    "    y = random.random() # random y, range [0, 1]\n",
    "    newR = (x)**2 + (y)**2 # distance from center that the dart landed \n",
    "    if newR <= radius: # if the dart landed inside the circle, newR will be less than radius \n",
    "        return 1 + circleProb(radius - newR) \n",
    "        # radius - newR is the new radius according to the gane rules\n",
    "    else: # if newR is greater than radius the dart landed outside of the circle \n",
    "        return 0\n",
    "\n",
    "ss = 1000 # sample size \n",
    "scoreTotal = 0 # the total score, summation of the games being played in the loop\n",
    "maxi = 0 # max score \n",
    "mini = 10000 # any large number that is without a reasonable doubt higher than any score\n",
    "for i in range(ss): # for loop will repeat ss times \n",
    "    prob = circleProb(1) # sending initial value to the recurive method \n",
    "    scoreTotal += prob \n",
    "    if prob > maxi: # checking/reseting max score\n",
    "        maxi = prob\n",
    "    if prob < mini: # checking/reseting min score \n",
    "        mini = prob \n",
    "\n",
    "print(\"experimental average score: {}\".format(scoreTotal/ss)) \n",
    "print(\"range of scores: [{},{}]\".format(mini, maxi))"
   ]
  },
  {
   "cell_type": "code",
   "execution_count": 2,
   "metadata": {},
   "outputs": [
    {
     "name": "stdout",
     "output_type": "stream",
     "text": [
      "True\n"
     ]
    }
   ],
   "source": [
    "\"\"\"\n",
    "Background: check to see is a string is a palodrome:\n",
    "\"\"\"\n",
    "\n",
    "def string_check(string):\n",
    "    l = len(string)\n",
    "    for i in range(l):\n",
    "        if string[i] != string[l-i-1]:\n",
    "            return False \n",
    "    return True\n",
    "\n",
    "print(string_check('aaa'))\n",
    "        "
   ]
  },
  {
   "cell_type": "code",
   "execution_count": 3,
   "metadata": {},
   "outputs": [
    {
     "name": "stdout",
     "output_type": "stream",
     "text": [
      "game 2 average score: 0.92747\n",
      "game 1 average score: 0.51895\n"
     ]
    }
   ],
   "source": [
    "import random\n",
    "def game2():\n",
    "    sixcheck = 0\n",
    "    for i in range(24):\n",
    "        foo = random.randint(1,6)\n",
    "        if foo == 6:\n",
    "            sixcheck += 1\n",
    "    if sixcheck > 1:\n",
    "        return 1\n",
    "    else:\n",
    "        return 0\n",
    "\n",
    "def game1(): \n",
    "    sixcheck = 0 \n",
    "    for i in range(4):\n",
    "        foo = random.randint(1,6)\n",
    "        if foo == 6:\n",
    "            return 1\n",
    "    return 0\n",
    "        \n",
    "ss = 10000\n",
    "winsg2 = 0\n",
    "winsg1 = 0\n",
    "for i in range(ss):\n",
    "    winsg2 += game2()\n",
    "    winsg1 += game1()\n",
    "    \n",
    "\n",
    "print('game 2 average score: {}'.format(winsg2/ss))\n",
    "print('game 1 average score: {}'.format(winsg1/ss))"
   ]
  },
  {
   "cell_type": "code",
   "execution_count": 4,
   "metadata": {},
   "outputs": [
    {
     "name": "stdout",
     "output_type": "stream",
     "text": [
      "prob: 0.6875\n"
     ]
    }
   ],
   "source": [
    "import random\n",
    "#hw 1 ece stats prob2\n",
    "def prob2():\n",
    "    r = [0, 0, 0, 0]\n",
    "    for i in range(4):\n",
    "        r[i] = random.randint(0,1)\n",
    "    if r[0]:\n",
    "        return 1\n",
    "    if r[1] and (r[2] or r[3]):\n",
    "        return 1\n",
    "    return 0\n",
    "\n",
    "ss = 10000\n",
    "score = 0\n",
    "for i in range(ss):\n",
    "    score += prob2()\n",
    "\n",
    "print(\"prob: {}\".format(score/ss))"
   ]
  },
  {
   "cell_type": "code",
   "execution_count": 22,
   "metadata": {},
   "outputs": [
    {
     "name": "stdout",
     "output_type": "stream",
     "text": [
      "avg score: 0.4148\n"
     ]
    }
   ],
   "source": [
    "# stat discussion feb 5\n",
    "from random import randint \n",
    "def not_spade():\n",
    "    numcards = 52\n",
    "    numnotspades = 39\n",
    "    for i in range(3):\n",
    "        x = randint(1, numcards)\n",
    "        if x > numnotspades:\n",
    "            return 0\n",
    "        numcards -= 1\n",
    "        numnotspades -= 1\n",
    "    return 1\n",
    "\n",
    "ss = 10000\n",
    "score = 0\n",
    "for i in range(ss):\n",
    "    score += not_spade()\n",
    "\n",
    "print(\"avg score: {}\".format(score/ss))"
   ]
  },
  {
   "cell_type": "code",
   "execution_count": 24,
   "metadata": {},
   "outputs": [
    {
     "name": "stdout",
     "output_type": "stream",
     "text": [
      "math function:  0.4927027656760146\n",
      "factdownRecur:  0.4927027656760147\n",
      "factdown loop:  0.49270276567601445\n"
     ]
    }
   ],
   "source": [
    "import math\n",
    "def factdown(start = 365, base = 365, N = 23):\n",
    "    assert N > 1, 'number of students must be >1' # not nes for logic \n",
    "    hold = 1\n",
    "    for i in range(N):\n",
    "        hold = hold*(start-i)/base\n",
    "    return hold\n",
    "\n",
    "factdown()\n",
    "\n",
    "\n",
    "# recursion is bad bc it pushes a value to the stack after weach recustion cuasing stack over flow \n",
    "def factdownRecur(start = 365, base = 365, N = 23):\n",
    "    if N <= 1:\n",
    "        return start/base\n",
    "    else:\n",
    "        return start*factdownRecur(start = start -1, base = base, N = N - 1)/base\n",
    "\n",
    "    \n",
    "# fact down factorial \n",
    "print('math function: ', math.factorial(365)/math.factorial(365 - 23)/(365**23))\n",
    "print('factdownRecur: ', factdownRecur())\n",
    "print('factdown loop: ', factdown())"
   ]
  },
  {
   "cell_type": "code",
   "execution_count": null,
   "metadata": {},
   "outputs": [],
   "source": []
  }
 ],
 "metadata": {
  "kernelspec": {
   "display_name": "Python 3",
   "language": "python",
   "name": "python3"
  },
  "language_info": {
   "codemirror_mode": {
    "name": "ipython",
    "version": 3
   },
   "file_extension": ".py",
   "mimetype": "text/x-python",
   "name": "python",
   "nbconvert_exporter": "python",
   "pygments_lexer": "ipython3",
   "version": "3.7.3"
  }
 },
 "nbformat": 4,
 "nbformat_minor": 2
}
